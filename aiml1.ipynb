{
 "cells": [
  {
   "cell_type": "code",
   "execution_count": 1,
   "id": "false-world",
   "metadata": {},
   "outputs": [],
   "source": [
    "import numpy as np"
   ]
  },
  {
   "cell_type": "code",
   "execution_count": 6,
   "id": "engaged-torture",
   "metadata": {},
   "outputs": [
    {
     "data": {
      "text/plain": [
       "8103.083927575384"
      ]
     },
     "execution_count": 6,
     "metadata": {},
     "output_type": "execute_result"
    }
   ],
   "source": [
    "x = np.exp(9)\n",
    "x"
   ]
  },
  {
   "cell_type": "code",
   "execution_count": 7,
   "id": "ultimate-pulse",
   "metadata": {},
   "outputs": [
    {
     "data": {
      "text/plain": [
       "0.6931471805599453"
      ]
     },
     "execution_count": 7,
     "metadata": {},
     "output_type": "execute_result"
    }
   ],
   "source": [
    "y = np.log(2)\n",
    "y"
   ]
  },
  {
   "cell_type": "markdown",
   "id": "documentary-graphics",
   "metadata": {},
   "source": [
    "# Rendevouz with numpy and pandas"
   ]
  },
  {
   "cell_type": "code",
   "execution_count": 8,
   "id": "major-freeze",
   "metadata": {},
   "outputs": [
    {
     "data": {
      "text/plain": [
       "9.693147180559945"
      ]
     },
     "execution_count": 8,
     "metadata": {},
     "output_type": "execute_result"
    }
   ],
   "source": [
    "np.log(x * 2)"
   ]
  },
  {
   "cell_type": "code",
   "execution_count": 9,
   "id": "aggressive-bench",
   "metadata": {},
   "outputs": [],
   "source": [
    "# Sets\n",
    "A = {'Cow', 'Cat', 'Dog', 'Rabbit', 'Sheep'}\n",
    "B = {'Cat', 'Dog', 'Squirrel', 'Fox'}\n",
    "\n"
   ]
  },
  {
   "cell_type": "code",
   "execution_count": 10,
   "id": "amber-climb",
   "metadata": {},
   "outputs": [
    {
     "data": {
      "text/plain": [
       "{'Cat', 'Cow', 'Dog', 'Fox', 'Rabbit', 'Sheep', 'Squirrel'}"
      ]
     },
     "execution_count": 10,
     "metadata": {},
     "output_type": "execute_result"
    }
   ],
   "source": [
    "U = A.union(B)\n",
    "U"
   ]
  },
  {
   "cell_type": "code",
   "execution_count": 11,
   "id": "american-stocks",
   "metadata": {},
   "outputs": [
    {
     "data": {
      "text/plain": [
       "{'Cat', 'Dog'}"
      ]
     },
     "execution_count": 11,
     "metadata": {},
     "output_type": "execute_result"
    }
   ],
   "source": [
    "n = A.intersection(B)\n",
    "n"
   ]
  },
  {
   "cell_type": "code",
   "execution_count": 12,
   "id": "found-passport",
   "metadata": {},
   "outputs": [
    {
     "data": {
      "text/plain": [
       "{'Cow', 'Rabbit', 'Sheep'}"
      ]
     },
     "execution_count": 12,
     "metadata": {},
     "output_type": "execute_result"
    }
   ],
   "source": [
    "d = A.difference(B)\n",
    "d"
   ]
  },
  {
   "cell_type": "code",
   "execution_count": 13,
   "id": "recreational-section",
   "metadata": {},
   "outputs": [
    {
     "name": "stdout",
     "output_type": "stream",
     "text": [
      "2.1972245773362196\n",
      "8103.083927575384\n",
      "0.4121184852417566\n",
      "-0.9111302618846769\n"
     ]
    }
   ],
   "source": [
    "# Numpy\n",
    "import numpy as np\n",
    "print(np.log(9))\n",
    "print(np.exp(9))\n",
    "print(np.sin(9))\n",
    "print(np.cos(9))"
   ]
  },
  {
   "cell_type": "code",
   "execution_count": 16,
   "id": "strategic-briefs",
   "metadata": {},
   "outputs": [
    {
     "name": "stdout",
     "output_type": "stream",
     "text": [
      "[1 2 3 4 5]\n",
      "[5 6 7 8 9]\n"
     ]
    }
   ],
   "source": [
    "# Main use of numpy is to do computing with matrices\n",
    "a = np.array([1,2,3,4,5])\n",
    "print(a)\n",
    "b = np.array(range(5, 10))\n",
    "print(b)"
   ]
  },
  {
   "cell_type": "code",
   "execution_count": 17,
   "id": "established-accreditation",
   "metadata": {},
   "outputs": [
    {
     "name": "stdout",
     "output_type": "stream",
     "text": [
      "[1.2  1.85 2.5  3.15 3.8 ]\n"
     ]
    }
   ],
   "source": [
    "# For evenly spaced numbers over a range, we can use linspace\n",
    "c = np.linspace(1.2, 3.8, num=5)\n",
    "print(c)"
   ]
  },
  {
   "cell_type": "code",
   "execution_count": 18,
   "id": "developmental-farming",
   "metadata": {},
   "outputs": [
    {
     "name": "stdout",
     "output_type": "stream",
     "text": [
      "<class 'numpy.ndarray'>\n"
     ]
    }
   ],
   "source": [
    "print(type(c)) # printing the type of object - array here"
   ]
  },
  {
   "cell_type": "code",
   "execution_count": 20,
   "id": "least-level",
   "metadata": {},
   "outputs": [
    {
     "name": "stdout",
     "output_type": "stream",
     "text": [
      "1.2 1.8499999999999999 2.5\n"
     ]
    }
   ],
   "source": [
    "print(c[0], c[1], c[2]) # printing individual items"
   ]
  },
  {
   "cell_type": "code",
   "execution_count": 23,
   "id": "toxic-necessity",
   "metadata": {},
   "outputs": [
    {
     "name": "stdout",
     "output_type": "stream",
     "text": [
      "3.8 1.2 2.5\n"
     ]
    }
   ],
   "source": [
    "print(c.max(), c.min(), c.mean())"
   ]
  },
  {
   "cell_type": "code",
   "execution_count": 24,
   "id": "offshore-confidence",
   "metadata": {},
   "outputs": [
    {
     "name": "stdout",
     "output_type": "stream",
     "text": [
      "[11.    1.85  2.5   3.15  3.8 ]\n"
     ]
    }
   ],
   "source": [
    "c[0] = 11\n",
    "print(c)"
   ]
  },
  {
   "cell_type": "code",
   "execution_count": 25,
   "id": "excessive-islam",
   "metadata": {},
   "outputs": [
    {
     "name": "stdout",
     "output_type": "stream",
     "text": [
      "[[ 1  2  3  4  5]\n",
      " [ 6  7  8  9 10]]\n"
     ]
    }
   ],
   "source": [
    "# 2D Matrix\n",
    "m = np.array([[1,2,3,4,5],[6,7,8,9,10]])\n",
    "print(m)"
   ]
  },
  {
   "cell_type": "code",
   "execution_count": 26,
   "id": "linear-submission",
   "metadata": {},
   "outputs": [
    {
     "data": {
      "text/plain": [
       "(2, 5)"
      ]
     },
     "execution_count": 26,
     "metadata": {},
     "output_type": "execute_result"
    }
   ],
   "source": [
    "print(m.shape) # for dimensions"
   ]
  },
  {
   "cell_type": "code",
   "execution_count": 27,
   "id": "eastern-religion",
   "metadata": {},
   "outputs": [
    {
     "name": "stdout",
     "output_type": "stream",
     "text": [
      "[[ 1  2]\n",
      " [ 3  4]\n",
      " [ 5  6]\n",
      " [ 7  8]\n",
      " [ 9 10]]\n",
      "[[ 1  6]\n",
      " [ 2  7]\n",
      " [ 3  8]\n",
      " [ 4  9]\n",
      " [ 5 10]]\n"
     ]
    }
   ],
   "source": [
    "rsm = m.reshape(5,2)\n",
    "print(rsm)\n",
    "tm = m.transpose()\n",
    "print(tm)\n",
    "into_line = m.ravel()"
   ]
  },
  {
   "cell_type": "code",
   "execution_count": 30,
   "id": "blond-legislature",
   "metadata": {},
   "outputs": [
    {
     "name": "stdout",
     "output_type": "stream",
     "text": [
      "[[0. 0. 0. 0.]\n",
      " [0. 0. 0. 0.]\n",
      " [0. 0. 0. 0.]]\n",
      "[[1. 1. 1. 1. 1. 1. 1. 1.]\n",
      " [1. 1. 1. 1. 1. 1. 1. 1.]\n",
      " [1. 1. 1. 1. 1. 1. 1. 1.]\n",
      " [1. 1. 1. 1. 1. 1. 1. 1.]\n",
      " [1. 1. 1. 1. 1. 1. 1. 1.]\n",
      " [1. 1. 1. 1. 1. 1. 1. 1.]\n",
      " [1. 1. 1. 1. 1. 1. 1. 1.]\n",
      " [1. 1. 1. 1. 1. 1. 1. 1.]\n",
      " [1. 1. 1. 1. 1. 1. 1. 1.]\n",
      " [1. 1. 1. 1. 1. 1. 1. 1.]]\n",
      "[[3.14 3.14 3.14 3.14 3.14]\n",
      " [3.14 3.14 3.14 3.14 3.14]\n",
      " [3.14 3.14 3.14 3.14 3.14]\n",
      " [3.14 3.14 3.14 3.14 3.14]\n",
      " [3.14 3.14 3.14 3.14 3.14]]\n",
      "[[[1. 1. 1.]\n",
      "  [1. 1. 1.]\n",
      "  [1. 1. 1.]]\n",
      "\n",
      " [[1. 1. 1.]\n",
      "  [1. 1. 1.]\n",
      "  [1. 1. 1.]]\n",
      "\n",
      " [[1. 1. 1.]\n",
      "  [1. 1. 1.]\n",
      "  [1. 1. 1.]]]\n"
     ]
    }
   ],
   "source": [
    "a_z = np.zeros((3,4))\n",
    "print(a_z)\n",
    "a_o = np.ones((10,8))\n",
    "print(a_o)\n",
    "a_pi = np.full((5,5), 3.14)\n",
    "print(a_pi)\n",
    "d_mat = np.ones((3,3,3))\n",
    "print(d_mat)"
   ]
  },
  {
   "cell_type": "code",
   "execution_count": 31,
   "id": "gothic-demographic",
   "metadata": {},
   "outputs": [
    {
     "name": "stdout",
     "output_type": "stream",
     "text": [
      "[[1.   1.   1.   1.   1.   1.   1.   1.  ]\n",
      " [1.   1.   1.   1.   1.   1.   1.   1.  ]\n",
      " [1.   1.   9.87 9.87 9.87 9.87 9.87 9.87]\n",
      " [1.   1.   9.87 9.87 9.87 9.87 9.87 9.87]\n",
      " [1.   1.   9.87 9.87 9.87 9.87 9.87 9.87]\n",
      " [1.   1.   9.87 9.87 9.87 9.87 9.87 9.87]\n",
      " [1.   1.   1.   1.   1.   1.   1.   1.  ]\n",
      " [1.   1.   1.   1.   1.   1.   1.   1.  ]\n",
      " [1.   1.   1.   1.   1.   1.   1.   1.  ]\n",
      " [1.   1.   1.   1.   1.   1.   1.   1.  ]]\n"
     ]
    }
   ],
   "source": [
    "# indexing numpy arrays\n",
    "a_o[2:6, 2:]=9.87\n",
    "print(a_o)"
   ]
  },
  {
   "cell_type": "code",
   "execution_count": 34,
   "id": "classified-frame",
   "metadata": {},
   "outputs": [
    {
     "name": "stdout",
     "output_type": "stream",
     "text": [
      "[[  7.69861384   6.57596409   3.39112001]\n",
      " [ 10.90986417   3.04107573  -5.2794155 ]\n",
      " [ -0.8430134   -1.01064175 249.37597391]]\n"
     ]
    }
   ],
   "source": [
    "# array arithmetic\n",
    "arr_1 = np.array([[1,2,3],[4,5,6], [7,8,9]])\n",
    "arr_2 = np.array([[7,6,4], [12,5,1], [2,2,249]])\n",
    "arr_3 = arr_2 + np.sin(arr_1) - arr_1 / arr_2\n",
    "print(arr_3)"
   ]
  },
  {
   "cell_type": "code",
   "execution_count": 35,
   "id": "indie-popularity",
   "metadata": {},
   "outputs": [
    {
     "name": "stdout",
     "output_type": "stream",
     "text": [
      "2\n",
      "6\n",
      "12\n",
      "20\n",
      "30\n",
      "42\n",
      "56\n",
      "72\n"
     ]
    }
   ],
   "source": [
    "a = np.array(range(1,9))\n",
    "for x in a:\n",
    "    print(x**2+x)"
   ]
  },
  {
   "cell_type": "code",
   "execution_count": 38,
   "id": "official-british",
   "metadata": {},
   "outputs": [
    {
     "name": "stdout",
     "output_type": "stream",
     "text": [
      "[0.         1.         1.41421356 1.73205081 2.         2.23606798\n",
      " 2.44948974 2.64575131 2.82842712 3.        ]\n"
     ]
    },
    {
     "data": {
      "image/png": "[encoded data removed]",
      "text/plain": [
       "<Figure size 432x288 with 1 Axes>"
      ]
     },
     "metadata": {
      "needs_background": "light"
     },
     "output_type": "display_data"
    }
   ],
   "source": [
    "from matplotlib import pyplot as plt # importing a plotting library from python to plot some numpy arrays\n",
    "\n",
    "x = np.array(range(0,10))\n",
    "y = np.sqrt(x)\n",
    "plt.plot(x,y)\n",
    "print(y)"
   ]
  },
  {
   "cell_type": "code",
   "execution_count": null,
   "id": "wound-desire",
   "metadata": {},
   "outputs": [],
   "source": []
  }
 ],
 "metadata": {
  "kernelspec": {
   "display_name": "Python 3",
   "language": "python",
   "name": "python3"
  },
  "language_info": {
   "codemirror_mode": {
    "name": "ipython",
    "version": 3
   },
   "file_extension": ".py",
   "mimetype": "text/x-python",
   "name": "python",
   "nbconvert_exporter": "python",
   "pygments_lexer": "ipython3",
   "version": "3.8.5"
  }
 },
 "nbformat": 4,
 "nbformat_minor": 5
}
